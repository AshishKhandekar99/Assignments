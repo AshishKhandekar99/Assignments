{
 "cells": [
  {
   "cell_type": "code",
   "execution_count": 29,
   "id": "5e1dd688-a1be-495f-a219-1e6638f64f19",
   "metadata": {},
   "outputs": [],
   "source": [
    "import pandas as pd\n",
    "import seaborn as sns\n",
    "import matplotlib.pyplot as plt\n",
    "import scipy.stats as stats"
   ]
  },
  {
   "cell_type": "code",
   "execution_count": null,
   "id": "aa3f1c8f-81de-4501-b241-25d4d832f5b5",
   "metadata": {},
   "outputs": [],
   "source": [
    "df = pd.read_csv(\"titanic.csv\")\n",
    "df"
   ]
  },
  {
   "cell_type": "code",
   "execution_count": null,
   "id": "ad1d47b2-efd8-40e8-9fa3-21fb02b57464",
   "metadata": {},
   "outputs": [],
   "source": [
    "print(df.shape)"
   ]
  },
  {
   "cell_type": "code",
   "execution_count": null,
   "id": "5492f8a6-546c-447e-8c88-b60b22d8d8ad",
   "metadata": {},
   "outputs": [],
   "source": [
    "df.describe()"
   ]
  },
  {
   "cell_type": "code",
   "execution_count": 22,
   "id": "c2d33643-6b56-4dc6-94be-0eef91356507",
   "metadata": {},
   "outputs": [],
   "source": [
    "def plot_age_fare_relation(df):\n",
    "    \"\"\"\n",
    "    Relational Graph\n",
    "    Creates a line graph of Age vs Fare to examine the relation between passenger age and ticket fare.\n",
    "    \"\"\"\n",
    "    plt.figure(figsize=(10, 6))\n",
    "    sns.lineplot(data=df, x=\"Age\", y=\"Fare\", marker=\"o\", errorbar=None)\n",
    "    plt.title(\"Fare vs Age Relationship\")\n",
    "    plt.xlabel(\"Age\")\n",
    "    plt.ylabel(\"Fare\")\n",
    "    plt.show()"
   ]
  },
  {
   "cell_type": "code",
   "execution_count": null,
   "id": "844f459d-e462-46bc-a8ee-44ab004a6067",
   "metadata": {},
   "outputs": [],
   "source": [
    "plot_age_fare_relation(df)"
   ]
  },
  {
   "cell_type": "code",
   "execution_count": null,
   "id": "bed40503-91a6-4793-bf6d-e130cb7d17ac",
   "metadata": {},
   "outputs": [],
   "source": [
    "def plot_survival_by_class(df):\n",
    "    \"\"\"\n",
    "    Creates a bar chart showing survival rates by passenger class.\n",
    "    \"\"\"\n",
    "    plt.figure(figsize=(8, 5))\n",
    "    survival_rates = df.groupby(\"Pclass\")[\"Survived\"].mean() * 100\n",
    "    sns.barplot(x=survival_rates.index, y=survival_rates.values, hue=survival_rates.index, palette=\"muted\", legend=False)\n",
    "    plt.title(\"Survival Rate by Passenger Class\")\n",
    "    plt.xlabel(\"Passenger Class\")\n",
    "    plt.ylabel(\"Survival Rate (%)\")\n",
    "    plt.show()"
   ]
  },
  {
   "cell_type": "code",
   "execution_count": null,
   "id": "a256b7da-dba8-4e15-8c20-9effd83a41d4",
   "metadata": {},
   "outputs": [],
   "source": [
    "plot_survival_by_class(df)"
   ]
  },
  {
   "cell_type": "code",
   "execution_count": 31,
   "id": "7c136b2f-446f-43bf-8d1d-a7d50435eeed",
   "metadata": {},
   "outputs": [],
   "source": [
    "def plot_selected_correlation_heatmap(df, selected_columns):\n",
    "    \"\"\"\n",
    "    Creates a heatmap to show correlations between selected numerical features in the Titanic dataset.\n",
    "    \"\"\"\n",
    "    # Subset the DataFrame to include only the selected columns\n",
    "    selected_df = df[selected_columns]\n",
    "    \n",
    "    # Filling NaNs with column means\n",
    "    selected_df = selected_df.fillna(selected_df.mean())\n",
    "    \n",
    "    plt.figure(figsize=(10, 8))\n",
    "    correlation_matrix = selected_df.corr()\n",
    "    sns.heatmap(correlation_matrix, annot=True, cmap=\"coolwarm\", center=0, vmin=-1, vmax=1)\n",
    "    plt.title(\"Correlation Heatmap of Selected Titanic Dataset Features\")\n",
    "    plt.show()"
   ]
  },
  {
   "cell_type": "code",
   "execution_count": null,
   "id": "5f16dae0-df01-4b05-ba6e-2f6875e6e940",
   "metadata": {},
   "outputs": [],
   "source": [
    "# Example usage with selected variables\n",
    "selected_columns = ['Survived', 'Pclass', 'Age', 'SibSp', 'Parch', 'Fare']\n",
    "plot_selected_correlation_heatmap(df, selected_columns)"
   ]
  },
  {
   "cell_type": "code",
   "execution_count": null,
   "id": "a9f58b79-fd25-4fb6-923f-365302c2ee96",
   "metadata": {},
   "outputs": [],
   "source": []
  }
 ],
 "metadata": {
  "kernelspec": {
   "display_name": "Python 3 (ipykernel)",
   "language": "python",
   "name": "python3"
  },
  "language_info": {
   "codemirror_mode": {
    "name": "ipython",
    "version": 3
   },
   "file_extension": ".py",
   "mimetype": "text/x-python",
   "name": "python",
   "nbconvert_exporter": "python",
   "pygments_lexer": "ipython3",
   "version": "3.12.4"
  }
 },
 "nbformat": 4,
 "nbformat_minor": 5
}
